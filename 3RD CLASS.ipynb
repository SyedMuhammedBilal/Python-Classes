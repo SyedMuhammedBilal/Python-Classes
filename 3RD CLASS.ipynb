{
 "cells": [
  {
   "cell_type": "markdown",
   "metadata": {},
   "source": [
    "##### CHAPTER 14"
   ]
  },
  {
   "cell_type": "code",
   "execution_count": 4,
   "metadata": {},
   "outputs": [
    {
     "name": "stdout",
     "output_type": "stream",
     "text": [
      "do you have cnic ? (y/n) y\n",
      "name in voter list ? (y/n) y\n",
      "you can cast the vote\n"
     ]
    }
   ],
   "source": [
    "cnic =  input(\"do you have cnic ? (y/n) \")\n",
    "voter_list = input(\"name in voter list ? (y/n) \")\n",
    "if cnic == \"y\" and voter_list == \"y\":\n",
    "    print(\"you can cast the vote\")\n",
    "else:\n",
    "    print(\"you are not eligible\")"
   ]
  },
  {
   "cell_type": "code",
   "execution_count": 14,
   "metadata": {},
   "outputs": [
    {
     "name": "stdout",
     "output_type": "stream",
     "text": [
      "is today is sunday ? (yes/no)yes\n",
      "do you have ticket ? (yes/no)yes\n",
      " did your girlfriend gave you a permission to go ? (yes/no)yes\n",
      " good now you can go to see cricket match\n"
     ]
    }
   ],
   "source": [
    "sunday = input(\"is today is sunday ? (yes/no)\")\n",
    "ticket = input(\"do you have ticket ? (yes/no)\")\n",
    "permission = input(\" did your girlfriend gave you a permission to go ? (yes/no)\")\n",
    "if sunday == \"yes\" and ticket == \"yes\" and permission ==\"yes\":\n",
    "    print(\" good now you can go to see cricket match\")\n",
    "else:\n",
    "    print(\"sorry you can't go to see cricket match\")"
   ]
  },
  {
   "cell_type": "markdown",
   "metadata": {},
   "source": [
    "# CHAPTER 15"
   ]
  },
  {
   "cell_type": "code",
   "execution_count": 10,
   "metadata": {},
   "outputs": [
    {
     "name": "stdout",
     "output_type": "stream",
     "text": [
      "['supra', 'rx7', 'mehran', 'civic', 's15', 'audi', 'rx8', '300z']\n"
     ]
    }
   ],
   "source": [
    "my_fav_dishes = []\n",
    "my_fav_cars = [\"supra\",\"rx7\",\"civic\",\"s15\",\"gtr35\",\"rx8\"]\n",
    "my_fav_cars[4] = \"audi\" \n",
    "my_fav_cars.append(\"300z\")\n",
    "my_fav_cars.insert(2,\"mehran\")\n",
    "\n",
    "print(my_fav_cars)\n"
   ]
  },
  {
   "cell_type": "code",
   "execution_count": 11,
   "metadata": {},
   "outputs": [],
   "source": [
    "my_fav_cars.append(\"300z\")"
   ]
  },
  {
   "cell_type": "code",
   "execution_count": 7,
   "metadata": {},
   "outputs": [],
   "source": [
    "my_fav_cars.append(\"300z\")"
   ]
  },
  {
   "cell_type": "code",
   "execution_count": 6,
   "metadata": {},
   "outputs": [
    {
     "name": "stdout",
     "output_type": "stream",
     "text": [
      "my fav car is rx7\n"
     ]
    }
   ],
   "source": [
    "print(\"my fav car is\", my_fav_cars[1])"
   ]
  },
  {
   "cell_type": "code",
   "execution_count": 11,
   "metadata": {},
   "outputs": [
    {
     "data": {
      "text/plain": [
       "True"
      ]
     },
     "execution_count": 11,
     "metadata": {},
     "output_type": "execute_result"
    }
   ],
   "source": [
    "\"audi\"in my_fav_cars"
   ]
  },
  {
   "cell_type": "code",
   "execution_count": 12,
   "metadata": {},
   "outputs": [
    {
     "data": {
      "text/plain": [
       "False"
      ]
     },
     "execution_count": 12,
     "metadata": {},
     "output_type": "execute_result"
    }
   ],
   "source": [
    "\"buggati\"in my_fav_cars"
   ]
  },
  {
   "cell_type": "code",
   "execution_count": 5,
   "metadata": {},
   "outputs": [
    {
     "name": "stdout",
     "output_type": "stream",
     "text": [
      "['mani', 'saif', 'ahsan', 'abdulrehman']\n"
     ]
    }
   ],
   "source": [
    "my_best_friends= [\"mani\",\"saif\",\"ahsan\"]\n",
    "my_best_friends.append(\"abdulrehman\")\n",
    "print(my_best_friends)"
   ]
  },
  {
   "cell_type": "code",
   "execution_count": 10,
   "metadata": {},
   "outputs": [
    {
     "name": "stdout",
     "output_type": "stream",
     "text": [
      "my best friend is saif\n"
     ]
    }
   ],
   "source": [
    "print(\"my best friend is\", my_best_friends[1])"
   ]
  },
  {
   "cell_type": "code",
   "execution_count": 8,
   "metadata": {},
   "outputs": [
    {
     "data": {
      "text/plain": [
       "['mani', 'saif', 'ahsan', 'abdulrehman', 'shayan', 'shayan', 'areeb']"
      ]
     },
     "execution_count": 8,
     "metadata": {},
     "output_type": "execute_result"
    }
   ],
   "source": [
    "my_best_friends.insert(4, \"areeb\")\n",
    "my_best_friends\n",
    "my_best_friends[4]=\"shayan\"\n",
    "my_best_friends"
   ]
  },
  {
   "cell_type": "code",
   "execution_count": 24,
   "metadata": {},
   "outputs": [
    {
     "data": {
      "text/plain": [
       "['a', 1, 'true', ['c', 'd']]"
      ]
     },
     "execution_count": 24,
     "metadata": {},
     "output_type": "execute_result"
    }
   ],
   "source": [
    "ek_or_list= [\"a\",1,\"true\",[\"c\",\"d\"]]\n",
    "ek_or_list"
   ]
  },
  {
   "cell_type": "code",
   "execution_count": 25,
   "metadata": {},
   "outputs": [
    {
     "data": {
      "text/plain": [
       "['a', 1, 'true', ['c', 'd'], 'x,2']"
      ]
     },
     "execution_count": 25,
     "metadata": {},
     "output_type": "execute_result"
    }
   ],
   "source": [
    "ek_or_list.append(\"x,2\")\n",
    "ek_or_list"
   ]
  },
  {
   "cell_type": "code",
   "execution_count": 26,
   "metadata": {},
   "outputs": [
    {
     "data": {
      "text/plain": [
       "'d'"
      ]
     },
     "execution_count": 26,
     "metadata": {},
     "output_type": "execute_result"
    }
   ],
   "source": [
    "ek_or_list[3][1]"
   ]
  },
  {
   "cell_type": "code",
   "execution_count": 34,
   "metadata": {},
   "outputs": [
    {
     "name": "stdout",
     "output_type": "stream",
     "text": [
      "['abc', 1, 'abc12']\n"
     ]
    }
   ],
   "source": [
    "mix_list = [\"abc\" , 1 , \"abc12\"]\n",
    "print(mix_list)\n",
    "mix_list[2]=\"lol12\""
   ]
  },
  {
   "cell_type": "code",
   "execution_count": 35,
   "metadata": {},
   "outputs": [
    {
     "data": {
      "text/plain": [
       "'lol12'"
      ]
     },
     "execution_count": 35,
     "metadata": {},
     "output_type": "execute_result"
    }
   ],
   "source": [
    "mix_list[2]"
   ]
  },
  {
   "cell_type": "code",
   "execution_count": 36,
   "metadata": {},
   "outputs": [
    {
     "data": {
      "text/plain": [
       "['abc', 1, 'lol12', 'xyz']"
      ]
     },
     "execution_count": 36,
     "metadata": {},
     "output_type": "execute_result"
    }
   ],
   "source": [
    "mix_list.append(\"xyz\")\n",
    "mix_list"
   ]
  },
  {
   "cell_type": "code",
   "execution_count": 37,
   "metadata": {},
   "outputs": [
    {
     "data": {
      "text/plain": [
       "['abc', 2, 1, 'lol12', 'xyz']"
      ]
     },
     "execution_count": 37,
     "metadata": {},
     "output_type": "execute_result"
    }
   ],
   "source": [
    "mix_list.insert(1,2)\n",
    "mix_list"
   ]
  },
  {
   "cell_type": "code",
   "execution_count": 41,
   "metadata": {},
   "outputs": [
    {
     "data": {
      "text/plain": [
       "['abc', 2, 1, 'lol12']"
      ]
     },
     "execution_count": 41,
     "metadata": {},
     "output_type": "execute_result"
    }
   ],
   "source": [
    "list = mix_list[0:4]\n",
    "list"
   ]
  },
  {
   "cell_type": "code",
   "execution_count": 42,
   "metadata": {},
   "outputs": [
    {
     "data": {
      "text/plain": [
       "['abc', 2, 1, 'lol12', 'xyz']"
      ]
     },
     "execution_count": 42,
     "metadata": {},
     "output_type": "execute_result"
    }
   ],
   "source": [
    "list = mix_list[:5]\n",
    "list"
   ]
  },
  {
   "cell_type": "code",
   "execution_count": 43,
   "metadata": {},
   "outputs": [
    {
     "data": {
      "text/plain": [
       "[1, 'lol12', 'xyz']"
      ]
     },
     "execution_count": 43,
     "metadata": {},
     "output_type": "execute_result"
    }
   ],
   "source": [
    "list = mix_list[2:]\n",
    "list"
   ]
  },
  {
   "cell_type": "code",
   "execution_count": null,
   "metadata": {},
   "outputs": [],
   "source": []
  }
 ],
 "metadata": {
  "kernelspec": {
   "display_name": "Python 3",
   "language": "python",
   "name": "python3"
  },
  "language_info": {
   "codemirror_mode": {
    "name": "ipython",
    "version": 3
   },
   "file_extension": ".py",
   "mimetype": "text/x-python",
   "name": "python",
   "nbconvert_exporter": "python",
   "pygments_lexer": "ipython3",
   "version": "3.7.3"
  }
 },
 "nbformat": 4,
 "nbformat_minor": 2
}

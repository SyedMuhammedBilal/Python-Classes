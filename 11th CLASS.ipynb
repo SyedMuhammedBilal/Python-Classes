{
 "cells": [
  {
   "cell_type": "code",
   "execution_count": 5,
   "metadata": {},
   "outputs": [],
   "source": [
    "class Patient():\n",
    "    def __init__(self ,first_name ,last_name ,age ,gender):\n",
    "        self.first_name=first_name\n",
    "        self.last_name=last_name\n",
    "        self.age=age\n",
    "        self.gender=gender\n",
    "    def say_if_minor(self):\n",
    "        if self.age < 21:\n",
    "            print(self.first_name + \" \" + self.last_name  + \" jani is a minor\")\n",
    "        else:\n",
    "            print(\"s\")\n",
    "    def change_last_name(self, new_last_name):\n",
    "        self.last_name = new_last_name"
   ]
  },
  {
   "cell_type": "code",
   "execution_count": 6,
   "metadata": {},
   "outputs": [],
   "source": [
    "Patient_1 = Patient(\"bilal\",\"muzaffar\",19,\"male\")"
   ]
  },
  {
   "cell_type": "code",
   "execution_count": 7,
   "metadata": {},
   "outputs": [
    {
     "name": "stdout",
     "output_type": "stream",
     "text": [
      "bilal muzaffar jani is a minor\n"
     ]
    }
   ],
   "source": [
    "Patient_1.say_if_minor()"
   ]
  },
  {
   "cell_type": "code",
   "execution_count": 8,
   "metadata": {},
   "outputs": [],
   "source": [
    "class Person():\n",
    "    def __init__(self , name , age , gender):\n",
    "        self.name = name\n",
    "        self.age = age\n",
    "        self.gender = gender\n",
    "    \n",
    "    def moving(self):\n",
    "        print(f\"{self.name } is moving\")\n",
    "        "
   ]
  },
  {
   "cell_type": "code",
   "execution_count": 9,
   "metadata": {},
   "outputs": [],
   "source": [
    "newPerson = Person(\"Bilal\" , 20 , \"male\")"
   ]
  },
  {
   "cell_type": "code",
   "execution_count": 10,
   "metadata": {},
   "outputs": [
    {
     "name": "stdout",
     "output_type": "stream",
     "text": [
      "Bilal is moving\n"
     ]
    }
   ],
   "source": [
    "newPerson.moving()"
   ]
  },
  {
   "cell_type": "code",
   "execution_count": 11,
   "metadata": {},
   "outputs": [],
   "source": [
    "class Patient(Person):\n",
    "    def __init__(self , name , age , gender):\n",
    "        super().__init__(name , age , gender)\n",
    "        self.desease = \"Diabetics\"\n",
    "    \n",
    "    def get_patient_desease(self):\n",
    "        print(self.desease)"
   ]
  },
  {
   "cell_type": "code",
   "execution_count": 12,
   "metadata": {},
   "outputs": [],
   "source": [
    "new_patient = Patient(\"Abdul-rehman\" , 17 , \"male\")"
   ]
  },
  {
   "cell_type": "code",
   "execution_count": 13,
   "metadata": {},
   "outputs": [
    {
     "name": "stdout",
     "output_type": "stream",
     "text": [
      "Diabetics\n"
     ]
    }
   ],
   "source": [
    "new_patient.age\n",
    "new_patient.get_patient_desease()"
   ]
  },
  {
   "cell_type": "code",
   "execution_count": 14,
   "metadata": {},
   "outputs": [],
   "source": [
    "class Doctor(Person):\n",
    "    def __init__(self , name , age , gender , token_no):\n",
    "        super().__init__(name , age , gender)\n",
    "        self.token_no = token_no\n",
    "        \n",
    "    def current_token(self):\n",
    "        print(self.token_no)"
   ]
  },
  {
   "cell_type": "code",
   "execution_count": 15,
   "metadata": {},
   "outputs": [],
   "source": [
    "old_doctor = Doctor(\"Ahsan\" , 17 , \"male\" , 2)"
   ]
  },
  {
   "cell_type": "code",
   "execution_count": 16,
   "metadata": {},
   "outputs": [
    {
     "name": "stdout",
     "output_type": "stream",
     "text": [
      "Ahsan is moving\n"
     ]
    }
   ],
   "source": [
    "old_doctor.moving()"
   ]
  },
  {
   "cell_type": "code",
   "execution_count": 17,
   "metadata": {},
   "outputs": [
    {
     "name": "stdout",
     "output_type": "stream",
     "text": [
      "2\n"
     ]
    }
   ],
   "source": [
    "old_doctor.current_token()"
   ]
  },
  {
   "cell_type": "code",
   "execution_count": null,
   "metadata": {},
   "outputs": [],
   "source": []
  },
  {
   "cell_type": "code",
   "execution_count": null,
   "metadata": {},
   "outputs": [],
   "source": []
  }
 ],
 "metadata": {
  "kernelspec": {
   "display_name": "Python 3",
   "language": "python",
   "name": "python3"
  },
  "language_info": {
   "codemirror_mode": {
    "name": "ipython",
    "version": 3
   },
   "file_extension": ".py",
   "mimetype": "text/x-python",
   "name": "python",
   "nbconvert_exporter": "python",
   "pygments_lexer": "ipython3",
   "version": "3.7.3"
  }
 },
 "nbformat": 4,
 "nbformat_minor": 2
}

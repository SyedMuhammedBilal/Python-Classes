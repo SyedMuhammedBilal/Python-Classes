{
 "cells": [
  {
   "cell_type": "code",
   "execution_count": 3,
   "metadata": {},
   "outputs": [],
   "source": [
    "list1 = [3,4,6,5,78,54,67,90,54]"
   ]
  },
  {
   "cell_type": "code",
   "execution_count": 4,
   "metadata": {},
   "outputs": [
    {
     "data": {
      "text/plain": [
       "54"
      ]
     },
     "execution_count": 4,
     "metadata": {},
     "output_type": "execute_result"
    }
   ],
   "source": [
    "poppedValue = list1.pop()\n",
    "poppedValue"
   ]
  },
  {
   "cell_type": "code",
   "execution_count": 3,
   "metadata": {},
   "outputs": [],
   "source": [
    "list1 = [3,4,6,5,78,54,67,90,54]\n"
   ]
  },
  {
   "cell_type": "code",
   "execution_count": 10,
   "metadata": {},
   "outputs": [
    {
     "data": {
      "text/plain": [
       "[3, 4, 6, 5, 78, 54, 67, 90]"
      ]
     },
     "execution_count": 10,
     "metadata": {},
     "output_type": "execute_result"
    }
   ],
   "source": [
    "list1 = [3,4,6,5,78,54,67,90,54]\n",
    "poppedValue = list1.pop()\n",
    "poppedValue\n",
    "list1"
   ]
  },
  {
   "cell_type": "code",
   "execution_count": 5,
   "metadata": {},
   "outputs": [
    {
     "data": {
      "text/plain": [
       "[6, 5, 78]"
      ]
     },
     "execution_count": 5,
     "metadata": {},
     "output_type": "execute_result"
    }
   ],
   "source": [
    "slicedList = list1[2:5]\n",
    "slicedList"
   ]
  },
  {
   "cell_type": "code",
   "execution_count": 5,
   "metadata": {},
   "outputs": [
    {
     "name": "stdout",
     "output_type": "stream",
     "text": [
      "todoList.pop0\n",
      "todoList.pop1\n",
      "todoList.pop2\n",
      "todoList.pop3\n",
      "todoList.pop4\n",
      "all task are not accomplished\n"
     ]
    }
   ],
   "source": [
    "todoList = [\"nashta\",\"study\",\"music\",\"social media\",\"spending time with friends\"]\n",
    "todoList = input(\"todoList.pop\")\n",
    "if(todoList == [0]):\n",
    "    print(\"5 task are remaining\")\n",
    "todoList = input(\"todoList.pop\")\n",
    "if(todoList == [1]):\n",
    "    print(\"4 task are remaining\")\n",
    "todoList = input(\"todoList.pop\")\n",
    "if(todoList == [2]):\n",
    "    print(\"3 task are remaining\")\n",
    "todoList = input(\"todoList.pop\")\n",
    "if(todoList == [3]):\n",
    "    print(\"2 task are remaining\")\n",
    "todoList = input(\"todoList.pop\")\n",
    "if(todoList == [4]):\n",
    "    print(\"all task are accomplished\")\n",
    "else:\n",
    "    print(\"all task are not accomplished\")"
   ]
  },
  {
   "cell_type": "code",
   "execution_count": 6,
   "metadata": {},
   "outputs": [
    {
     "name": "stdout",
     "output_type": "stream",
     "text": [
      "have you done the task?yes\n",
      "['study', 'breakfast', 'lunch']\n",
      "dinner\n",
      "have you done the task?yes\n",
      "['study', 'breakfast']\n",
      "lunch\n",
      "have you done the task?yes\n",
      "['study']\n",
      "breakfast\n",
      "have you done the task?yes\n",
      "[]\n",
      "study\n",
      "have you done the task?yes\n"
     ]
    },
    {
     "ename": "IndexError",
     "evalue": "pop from empty list",
     "output_type": "error",
     "traceback": [
      "\u001b[1;31m---------------------------------------------------------------------------\u001b[0m",
      "\u001b[1;31mIndexError\u001b[0m                                Traceback (most recent call last)",
      "\u001b[1;32m<ipython-input-6-fc74d39860f3>\u001b[0m in \u001b[0;36m<module>\u001b[1;34m\u001b[0m\n\u001b[0;32m     27\u001b[0m \u001b[0mstatus\u001b[0m \u001b[1;33m=\u001b[0m \u001b[0minput\u001b[0m\u001b[1;33m(\u001b[0m\u001b[1;34m\"have you done the task?\"\u001b[0m\u001b[1;33m)\u001b[0m\u001b[1;33m\u001b[0m\u001b[1;33m\u001b[0m\u001b[0m\n\u001b[0;32m     28\u001b[0m \u001b[1;32mif\u001b[0m \u001b[0mstatus\u001b[0m \u001b[1;33m==\u001b[0m \u001b[1;34m\"yes\"\u001b[0m\u001b[1;33m:\u001b[0m\u001b[1;33m\u001b[0m\u001b[1;33m\u001b[0m\u001b[0m\n\u001b[1;32m---> 29\u001b[1;33m     \u001b[0mdonetask\u001b[0m \u001b[1;33m=\u001b[0m \u001b[0mtodolist\u001b[0m\u001b[1;33m.\u001b[0m\u001b[0mpop\u001b[0m\u001b[1;33m(\u001b[0m\u001b[1;33m)\u001b[0m\u001b[1;33m\u001b[0m\u001b[1;33m\u001b[0m\u001b[0m\n\u001b[0m\u001b[0;32m     30\u001b[0m     \u001b[0mtaskfinished\u001b[0m\u001b[1;33m.\u001b[0m\u001b[0mappend\u001b[0m\u001b[1;33m(\u001b[0m\u001b[0mdonetask\u001b[0m\u001b[1;33m)\u001b[0m\u001b[1;33m\u001b[0m\u001b[1;33m\u001b[0m\u001b[0m\n\u001b[0;32m     31\u001b[0m \u001b[0mprint\u001b[0m\u001b[1;33m(\u001b[0m\u001b[0mtodolist\u001b[0m\u001b[1;33m)\u001b[0m\u001b[1;33m\u001b[0m\u001b[1;33m\u001b[0m\u001b[0m\n",
      "\u001b[1;31mIndexError\u001b[0m: pop from empty list"
     ]
    }
   ],
   "source": [
    "todolist = [\"study\",\"breakfast\",\"lunch\",\"dinner\"]\n",
    "taskfinished = []\n",
    "status = input(\"have you done the task?\")\n",
    "if status == \"yes\":\n",
    "    donetask = todolist.pop()\n",
    "    taskfinished.append(donetask)\n",
    "print(todolist)\n",
    "print(donetask)\n",
    "status = input(\"have you done the task?\")\n",
    "if status == \"yes\":\n",
    "    donetask = todolist.pop()\n",
    "    taskfinished.append(donetask)\n",
    "print(todolist)\n",
    "print(donetask)\n",
    "status = input(\"have you done the task?\")\n",
    "if status == \"yes\":\n",
    "    donetask = todolist.pop()\n",
    "    taskfinished.append(donetask)\n",
    "print(todolist)\n",
    "print(donetask)\n",
    "status = input(\"have you done the task?\")\n",
    "if status == \"yes\":\n",
    "    donetask = todolist.pop()\n",
    "    taskfinished.append(donetask)\n",
    "print(todolist)\n",
    "print(donetask)\n",
    "status = input(\"have you done the task?\")\n",
    "if status == \"yes\":\n",
    "    donetask = todolist.pop()\n",
    "    taskfinished.append(donetask)\n",
    "print(todolist)\n",
    "print(donetask)    "
   ]
  },
  {
   "cell_type": "code",
   "execution_count": 5,
   "metadata": {},
   "outputs": [
    {
     "name": "stdout",
     "output_type": "stream",
     "text": [
      "have you done the task?yes\n",
      "['study', 'breakfast']\n",
      "lunch\n"
     ]
    }
   ],
   "source": [
    "status = input(\"have you done the task?\")\n",
    "if status == \"yes\":\n",
    "    donetask = todolist.pop()\n",
    "    taskfinished.append(donetask)\n",
    "print(todolist)\n",
    "print(donetask)"
   ]
  },
  {
   "cell_type": "code",
   "execution_count": 20,
   "metadata": {},
   "outputs": [
    {
     "name": "stdout",
     "output_type": "stream",
     "text": [
      "have you done the task?yes\n",
      "['study', 'breakfast', 'lunch']\n",
      "dinner\n"
     ]
    }
   ],
   "source": [
    "todolist = [\"study\",\"breakfast\",\"lunch\",\"dinner\"]\n",
    "taskfinished = []\n",
    "status = input(\"have you done the task?\")\n",
    "if status == \"yes\":\n",
    "    donetask = todolist.pop()\n",
    "    taskfinished.append(donetask)\n",
    "print(todolist)\n",
    "print(donetask)"
   ]
  },
  {
   "cell_type": "code",
   "execution_count": 27,
   "metadata": {},
   "outputs": [
    {
     "name": "stdout",
     "output_type": "stream",
     "text": [
      "there are no tasks in task list\n"
     ]
    }
   ],
   "source": [
    "if len(todolist)!=0:\n",
    "    status = input(\"have you done the task?\")\n",
    "    if status == \"yes\":\n",
    "        donetask = todolist.pop()\n",
    "        taskfinished.append(donetask)\n",
    "else:\n",
    "    print(\"there are no tasks in task list\")        "
   ]
  },
  {
   "cell_type": "code",
   "execution_count": 26,
   "metadata": {},
   "outputs": [
    {
     "name": "stdout",
     "output_type": "stream",
     "text": [
      "[]\n",
      "study\n"
     ]
    }
   ],
   "source": [
    "print(todolist)\n",
    "print(donetask)"
   ]
  },
  {
   "cell_type": "markdown",
   "metadata": {},
   "source": [
    "# CHAPTER 21 (LOOPS)"
   ]
  },
  {
   "cell_type": "code",
   "execution_count": 29,
   "metadata": {},
   "outputs": [
    {
     "name": "stdout",
     "output_type": "stream",
     "text": [
      "BILAL\n",
      "BILAL\n",
      "BILAL\n",
      "BILAL\n",
      "BILAL\n",
      "BILAL\n",
      "BILAL\n",
      "BILAL\n",
      "BILAL\n",
      "BILAL\n"
     ]
    }
   ],
   "source": [
    "for a in range (10):\n",
    "    print(\"BILAL\")"
   ]
  },
  {
   "cell_type": "code",
   "execution_count": 32,
   "metadata": {},
   "outputs": [
    {
     "name": "stdout",
     "output_type": "stream",
     "text": [
      "0 BILAL\n",
      "1 BILAL\n",
      "2 BILAL\n",
      "3 BILAL\n",
      "4 BILAL\n",
      "5 BILAL\n",
      "6 BILAL\n",
      "7 BILAL\n",
      "8 BILAL\n",
      "9 BILAL\n"
     ]
    }
   ],
   "source": [
    "for a in range (10):\n",
    "    print(a,\"BILAL\")"
   ]
  },
  {
   "cell_type": "code",
   "execution_count": 33,
   "metadata": {},
   "outputs": [
    {
     "name": "stdout",
     "output_type": "stream",
     "text": [
      "1\n",
      "2\n",
      "3\n",
      "4\n",
      "5\n",
      "6\n",
      "7\n",
      "8\n",
      "9\n"
     ]
    }
   ],
   "source": [
    "for a in range (1,10):\n",
    "    print(a)"
   ]
  },
  {
   "cell_type": "code",
   "execution_count": 40,
   "metadata": {},
   "outputs": [
    {
     "name": "stdout",
     "output_type": "stream",
     "text": [
      "pasta\n",
      "biryani\n",
      "BBQ\n"
     ]
    }
   ],
   "source": [
    "foods = [\"pasta\",\"biryani\",\"BBQ\"]\n",
    "for food in foods:\n",
    "    print(food)"
   ]
  },
  {
   "cell_type": "code",
   "execution_count": 45,
   "metadata": {},
   "outputs": [
    {
     "name": "stdout",
     "output_type": "stream",
     "text": [
      "I love to buy my cloths from Levi'S.\n",
      "I love to buy my cloths from Out Fitters.\n",
      "I love to buy my cloths from Polo.\n",
      "I love to buy my cloths from Yellow.\n",
      "I love to buy my cloths from Redd Trees.\n"
     ]
    }
   ],
   "source": [
    "brands = [\"Levi's\",\"out fitters\",\"polo\",\"yellow\",\"redd trees\"]\n",
    "for brand in brands:\n",
    "    print(\"I love to buy my cloths from \"+ brand.title()+ \".\")"
   ]
  },
  {
   "cell_type": "code",
   "execution_count": 48,
   "metadata": {},
   "outputs": [
    {
     "name": "stdout",
     "output_type": "stream",
     "text": [
      "Bilal\n",
      "BILAL\n",
      "bilal\n"
     ]
    }
   ],
   "source": [
    "name=\"bilal\"\n",
    "print(name.title())\n",
    "print(name.upper())\n",
    "print(name.lower())"
   ]
  },
  {
   "cell_type": "code",
   "execution_count": 49,
   "metadata": {},
   "outputs": [
    {
     "name": "stdout",
     "output_type": "stream",
     "text": [
      "1\n",
      "3\n",
      "5\n",
      "7\n",
      "9\n"
     ]
    }
   ],
   "source": [
    "for i in range(1,10,2):\n",
    "    print(i)"
   ]
  },
  {
   "cell_type": "code",
   "execution_count": 53,
   "metadata": {},
   "outputs": [
    {
     "name": "stdout",
     "output_type": "stream",
     "text": [
      "10\n",
      "9\n",
      "8\n",
      "7\n",
      "6\n",
      "5\n",
      "4\n",
      "3\n",
      "2\n",
      "1\n"
     ]
    }
   ],
   "source": [
    "for i in range(10,0,-1):\n",
    "    print(i)"
   ]
  },
  {
   "cell_type": "code",
   "execution_count": 61,
   "metadata": {},
   "outputs": [
    {
     "name": "stdout",
     "output_type": "stream",
     "text": [
      "[1, 4, 9, 16, 25, 36, 49, 64, 81]\n",
      "285\n",
      "81\n",
      "1\n"
     ]
    }
   ],
   "source": [
    "squares=[]\n",
    "for value in range(1,10):\n",
    "    square = value**2\n",
    "    squares.append(square) \n",
    "print(squares)\n",
    "print(sum(squares))\n",
    "print(max(squares))\n",
    "print(min(squares))"
   ]
  },
  {
   "cell_type": "code",
   "execution_count": 64,
   "metadata": {},
   "outputs": [
    {
     "name": "stdout",
     "output_type": "stream",
     "text": [
      "Pakistan"
     ]
    }
   ],
   "source": [
    "for char in \"Pakistan\":\n",
    "    print(char,end=\"\")"
   ]
  },
  {
   "cell_type": "markdown",
   "metadata": {},
   "source": [
    "# LIST COMPREHENSION"
   ]
  },
  {
   "cell_type": "code",
   "execution_count": 2,
   "metadata": {},
   "outputs": [
    {
     "data": {
      "text/plain": [
       "[1, 4, 9, 16, 25, 36, 49, 64, 81, 100]"
      ]
     },
     "execution_count": 2,
     "metadata": {},
     "output_type": "execute_result"
    }
   ],
   "source": [
    "[x**2 for x in range(1,11)]"
   ]
  },
  {
   "cell_type": "code",
   "execution_count": null,
   "metadata": {},
   "outputs": [],
   "source": []
  }
 ],
 "metadata": {
  "kernelspec": {
   "display_name": "Python 3",
   "language": "python",
   "name": "python3"
  },
  "language_info": {
   "codemirror_mode": {
    "name": "ipython",
    "version": 3
   },
   "file_extension": ".py",
   "mimetype": "text/x-python",
   "name": "python",
   "nbconvert_exporter": "python",
   "pygments_lexer": "ipython3",
   "version": "3.7.1"
  }
 },
 "nbformat": 4,
 "nbformat_minor": 2
}

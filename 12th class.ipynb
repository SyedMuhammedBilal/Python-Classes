{
 "cells": [
  {
   "cell_type": "markdown",
   "metadata": {},
   "source": [
    "# DATA FILES"
   ]
  },
  {
   "cell_type": "code",
   "execution_count": 2,
   "metadata": {},
   "outputs": [],
   "source": [
    "with open(\"aaa.txt\",\"w\") as mani:\n",
    "    mani.write(\"hello bilal\")"
   ]
  },
  {
   "cell_type": "code",
   "execution_count": 6,
   "metadata": {},
   "outputs": [],
   "source": [
    "mani = open(\"aaa.txt\",\"w\")\n",
    "mani.write(\"lol \")\n",
    "mani.write(\"hey\")\n",
    "mani.close()"
   ]
  },
  {
   "cell_type": "code",
   "execution_count": 16,
   "metadata": {},
   "outputs": [],
   "source": [
    "with open(\"bilall.txt\", \"w\") as mani:\n",
    "    mani.write(\" this is a new file in append mode \\n\")"
   ]
  },
  {
   "cell_type": "code",
   "execution_count": 17,
   "metadata": {},
   "outputs": [],
   "source": [
    "with open(\"bilall.txt\", \"a\") as mani:\n",
    "    mani.write(\" this is a new file in append mode\")"
   ]
  },
  {
   "cell_type": "code",
   "execution_count": 27,
   "metadata": {},
   "outputs": [
    {
     "name": "stdout",
     "output_type": "stream",
     "text": [
      "HAHA....\n"
     ]
    }
   ],
   "source": [
    "with open(\"AI.txt\", \"r+\") as f:\n",
    "    f.write(\"HAHA\")\n",
    "    f.seek(0)\n",
    "    content = f.read()\n",
    "    print(content+\"....\")"
   ]
  },
  {
   "cell_type": "code",
   "execution_count": null,
   "metadata": {},
   "outputs": [],
   "source": []
  },
  {
   "cell_type": "code",
   "execution_count": 32,
   "metadata": {},
   "outputs": [
    {
     "name": "stdout",
     "output_type": "stream",
     "text": [
      "enter number1 here5\n",
      "enter number2 here0\n",
      "can't divide\n"
     ]
    }
   ],
   "source": [
    "n1 = int(input(\"enter number1 here\"))\n",
    "n2 = int(input(\"enter number2 here\"))\n",
    "try:\n",
    "    result = n1/n2\n",
    "except:\n",
    "    print(\"can't divide\")\n",
    "else:\n",
    "    print(result)"
   ]
  },
  {
   "cell_type": "markdown",
   "metadata": {},
   "source": [
    "# MODULES"
   ]
  },
  {
   "cell_type": "code",
   "execution_count": null,
   "metadata": {},
   "outputs": [],
   "source": [
    "with open"
   ]
  },
  {
   "cell_type": "code",
   "execution_count": null,
   "metadata": {},
   "outputs": [],
   "source": []
  }
 ],
 "metadata": {
  "kernelspec": {
   "display_name": "Python 3",
   "language": "python",
   "name": "python3"
  },
  "language_info": {
   "codemirror_mode": {
    "name": "ipython",
    "version": 3
   },
   "file_extension": ".py",
   "mimetype": "text/x-python",
   "name": "python",
   "nbconvert_exporter": "python",
   "pygments_lexer": "ipython3",
   "version": "3.7.1"
  }
 },
 "nbformat": 4,
 "nbformat_minor": 2
}
